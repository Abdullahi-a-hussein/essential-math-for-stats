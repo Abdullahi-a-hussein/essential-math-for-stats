{
 "cells": [
  {
   "cell_type": "markdown",
   "metadata": {},
   "source": [
    "## Derivatives\n",
    "\n",
    "Derivatives is used to find the slope of a function at a given point. The slope is useful to measure the rate of change of at the given point in the function\n",
    "\n",
    "In statistics and Machine learning, derivates are useful for execution of certain algorithms such as, gradient descent. When the slope is zero, that means we are at the minimum or the maximum of an output variable.\n"
   ]
  },
  {
   "cell_type": "code",
   "execution_count": 2,
   "metadata": {},
   "outputs": [
    {
     "name": "stdout",
     "output_type": "stream",
     "text": [
      "4.000010000000827\n"
     ]
    }
   ],
   "source": [
    "def derivative_x(f, x, step):\n",
    "    derivtive = (f(x + step) - f(x))/((x + step) - x)\n",
    "    return derivtive\n",
    "\n",
    "\n",
    "def f(x):\n",
    "    return x**2\n",
    "\n",
    "\n",
    "print(derivative_x(f, 2, 0.00001))"
   ]
  },
  {
   "cell_type": "markdown",
   "metadata": {},
   "source": [
    "#### Partial Derivatives\n",
    "\n",
    "These derivatives of functions that have multiple input variables."
   ]
  },
  {
   "cell_type": "markdown",
   "metadata": {},
   "source": [
    "#### Integrals\n",
    "\n",
    "The opposite of derivatives is integral, which finds the area under the curve for a given range."
   ]
  },
  {
   "cell_type": "code",
   "execution_count": 7,
   "metadata": {},
   "outputs": [
    {
     "name": "stdout",
     "output_type": "stream",
     "text": [
      "1.33\n",
      "1.3333332500000004\n"
     ]
    }
   ],
   "source": [
    "def approximate_integral(a, b, n, f):\n",
    "    delta_x = (b-a)/n\n",
    "    total_sum = 0\n",
    "    for i in range(1, n + 1):\n",
    "        midpoint = a + (i-1) * delta_x + (delta_x/2)\n",
    "        total_sum += f(midpoint) * delta_x\n",
    "    return total_sum\n",
    "\n",
    "def my_function(x):\n",
    "    return x ** 2 + 1\n",
    "\n",
    "\n",
    "area = approximate_integral(a=0, b=1, n=5, f=my_function)\n",
    "print(area)\n",
    "\n",
    "area = approximate_integral(a=0, b=1, n=1000, f=my_function)\n",
    "print(area)"
   ]
  },
  {
   "cell_type": "markdown",
   "metadata": {},
   "source": [
    "### Probability"
   ]
  },
  {
   "cell_type": "markdown",
   "metadata": {},
   "source": [
    "Probability is how strongly we believe an event will happen, often expressed as a percentage. \n",
    "Probability is about quantifying predictions of events yet to happen, whereas likelihood is measuring the frequency of events that already occurred. \n",
    "\n",
    "In statistics and machine learning, we often use likelihood (the past) in the form of data to predict probability (the future).\n",
    "\n",
    "**The probability of an event happening is strictly between 0.0 and 1.0 inclusive**. That means if $P(x) = 0.7$, then $\\lnot P(X) = 1 - P(X) = 0.3$.\n",
    "\n",
    "This is another distinction between probability and likelihood. Probabilities of all possible mutually exclusive outcomes of an event must sum up to 1.0. Likelihoods, however, are not subject to this rule.\n",
    "\n",
    "Alternatively, probabilities can be expressed as odds $O(X)$ such as $7:3, 7/3$, or $2.\\overline{333}$. \n",
    "\n",
    "To turn an odds $O(X)$ into a proportional probability $P(X)$, use this formula\n",
    "\n",
    "$$\n",
    "P(X) = \\frac{O(X)}{1 + O(X)}\n",
    "$$\n",
    "\n",
    "**Probability vs. Statistics**: Probability is purely theoretical of how likely an event is to happen and does not require data. Statistics, on the other hand, can not exist without data and uses it to discover probability and provides tools to describe data."
   ]
  },
  {
   "cell_type": "markdown",
   "metadata": {},
   "source": [
    "#### Probability Math\n",
    "Single probability of an event $P(X)$ is called _marginal probability_.\n",
    "\n",
    "##### Joint Probability\n"
   ]
  }
 ],
 "metadata": {
  "kernelspec": {
   "display_name": "Python 3 (ipykernel)",
   "language": "python",
   "name": "python3"
  },
  "language_info": {
   "codemirror_mode": {
    "name": "ipython",
    "version": 3
   },
   "file_extension": ".py",
   "mimetype": "text/x-python",
   "name": "python",
   "nbconvert_exporter": "python",
   "pygments_lexer": "ipython3",
   "version": "3.13.2"
  }
 },
 "nbformat": 4,
 "nbformat_minor": 4
}
